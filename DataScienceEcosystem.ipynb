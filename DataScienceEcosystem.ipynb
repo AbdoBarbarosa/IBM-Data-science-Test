{
 "cells": [
  {
   "cell_type": "markdown",
   "id": "7ce80862",
   "metadata": {},
   "source": [
    "# Data Science Tools and Ecosystem"
   ]
  },
  {
   "cell_type": "markdown",
   "id": "b5daafc5",
   "metadata": {},
   "source": [
    "In this notebook, Data Science Tools and Ecosystem are summarized\n"
   ]
  },
  {
   "cell_type": "markdown",
   "id": "06f3924b",
   "metadata": {},
   "source": [
    "**Objectives:**\n",
    "\n",
    "* List popular languages for Data Science.\n",
    "\n",
    "* List popular open source development tools for Data Science.\n",
    "\n",
    "* List popular libraries used in Data Science."
   ]
  },
  {
   "cell_type": "markdown",
   "id": "46101e0f",
   "metadata": {},
   "source": [
    "Some of the popular languages that Data Scientists use are:\n",
    "1. Python\n",
    "2. R\n",
    "3. Java\n"
   ]
  },
  {
   "cell_type": "markdown",
   "id": "fbb0db13",
   "metadata": {},
   "source": [
    "Some of the commonly used libraries used by Data Scientists include:\n",
    "1. Pandas\n",
    "2. Matplotlib\n",
    "3. dplyr\n",
    "\n"
   ]
  },
  {
   "cell_type": "markdown",
   "id": "33af5174",
   "metadata": {},
   "source": [
    "|Data Science Tools | \n",
    "| ------ | \n",
    "|Jupyter Notebooks  | \n",
    "|Zeppelin Notebooks | \n",
    "| R Studio| \n",
    " "
   ]
  },
  {
   "cell_type": "markdown",
   "id": "c0b14072",
   "metadata": {},
   "source": [
    "### Below are a few examples of evaluating arithmetic expressions in Python.\n"
   ]
  },
  {
   "cell_type": "code",
   "execution_count": 1,
   "id": "e5bc516c",
   "metadata": {},
   "outputs": [
    {
     "data": {
      "text/plain": [
       "17"
      ]
     },
     "execution_count": 1,
     "metadata": {},
     "output_type": "execute_result"
    }
   ],
   "source": [
    "#This a simple arithmetic expression to mutiply then add integers\n",
    "\n",
    "(3*4)+5"
   ]
  },
  {
   "cell_type": "code",
   "execution_count": 2,
   "id": "988a5177",
   "metadata": {},
   "outputs": [
    {
     "data": {
      "text/plain": [
       "3.3333333333333335"
      ]
     },
     "execution_count": 2,
     "metadata": {},
     "output_type": "execute_result"
    }
   ],
   "source": [
    "# This will convert 200 minutes to hours by diving by 60\n",
    "\n",
    "200/60"
   ]
  },
  {
   "cell_type": "markdown",
   "id": "4d8e3937",
   "metadata": {},
   "source": [
    "## Author\n",
    "\n",
    "Abdelrahman Desoki"
   ]
  },
  {
   "cell_type": "code",
   "execution_count": null,
   "id": "bc604a0c",
   "metadata": {},
   "outputs": [],
   "source": []
  }
 ],
 "metadata": {
  "kernelspec": {
   "display_name": "Python 3",
   "language": "python",
   "name": "python3"
  },
  "language_info": {
   "codemirror_mode": {
    "name": "ipython",
    "version": 3
   },
   "file_extension": ".py",
   "mimetype": "text/x-python",
   "name": "python",
   "nbconvert_exporter": "python",
   "pygments_lexer": "ipython3",
   "version": "3.8.8"
  }
 },
 "nbformat": 4,
 "nbformat_minor": 5
}
